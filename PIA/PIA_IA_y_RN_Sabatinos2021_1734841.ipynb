{
  "nbformat": 4,
  "nbformat_minor": 0,
  "metadata": {
    "colab": {
      "name": "PIA_IA_y_RN_Sabatinos2021_1734841.ipynb",
      "provenance": []
    },
    "kernelspec": {
      "name": "python3",
      "display_name": "Python 3"
    },
    "language_info": {
      "name": "python"
    }
  },
  "cells": [
    {
      "cell_type": "markdown",
      "metadata": {
        "id": "xJhWC-kIHVFy"
      },
      "source": [
        "# **Instalacion de Kaggle**"
      ]
    },
    {
      "cell_type": "code",
      "metadata": {
        "id": "aDh9voexGqIl"
      },
      "source": [
        "pip install kaggle"
      ],
      "execution_count": null,
      "outputs": []
    },
    {
      "cell_type": "markdown",
      "metadata": {
        "id": "toCp63DAJIfY"
      },
      "source": [
        "Se agrega el archivo kaggle.json a los files"
      ]
    },
    {
      "cell_type": "code",
      "metadata": {
        "id": "wLGWhxZMHpUX"
      },
      "source": [
        "! cp kaggle.json ~/.kaggle/\n",
        "! chmod 600 ~/.kaggle/kaggle.json"
      ],
      "execution_count": 16,
      "outputs": []
    },
    {
      "cell_type": "markdown",
      "metadata": {
        "id": "SW0hHlVqISUg"
      },
      "source": [
        "Cargar imagenes"
      ]
    },
    {
      "cell_type": "code",
      "metadata": {
        "id": "kL-xYyHcIRQH"
      },
      "source": [
        "! kaggle datasets download -d puneet6060/intel-image-classification"
      ],
      "execution_count": null,
      "outputs": []
    },
    {
      "cell_type": "code",
      "metadata": {
        "id": "xieXvmQKJPIl"
      },
      "source": [
        "! unzip intel-image-classification.zip"
      ],
      "execution_count": null,
      "outputs": []
    },
    {
      "cell_type": "markdown",
      "metadata": {
        "id": "nQELEk1vJc-W"
      },
      "source": [
        "Acomodar las imagenes en arreglos"
      ]
    },
    {
      "cell_type": "code",
      "metadata": {
        "id": "au5UuOVGJnee"
      },
      "source": [
        "import cv2\n",
        "import glob\n",
        "import numpy as np\n",
        "class_names = [ 'buildings','forest', 'glacier', 'mountain', 'sea', 'street']\n",
        "test_images = []\n",
        "test_labels = []\n",
        "i_i = -1\n",
        "i_f = 0\n",
        "size = 150\n",
        "for i in class_names:\n",
        "  i_i = i_i + 1\n",
        "  files = glob.glob ('seg_test/seg_test/' + i + '/*')\n",
        "  for f in files:\n",
        "    i_f = i_f + 1\n",
        "    image = cv2.imread (f)\n",
        "    image = np.resize(image,(size, size, 3))\n",
        "    test_images.append(image)\n",
        "  s = (i_f,1)\n",
        "  i_f = 0\n",
        "  label = []\n",
        "  label = np.ones(s)*i_i\n",
        "  for n in label:\n",
        "    test_labels.append([label])\n",
        "  i_i = 0\n",
        "\n",
        "print(np.array(test_images).shape)\n",
        "print(np.array(test_labels).shape)\n",
        "\n",
        "train_images = []\n",
        "train_labels = []\n",
        "i_f = 0\n",
        "i_i = -1\n",
        "size = 150\n",
        "for i in class_names:\n",
        "  i_i = i_i + 1\n",
        "  files = glob.glob ('seg_train/seg_train/' + i + '/*')\n",
        "  for f in files:\n",
        "    i_f = i_f + 1\n",
        "    image = cv2.imread (f)\n",
        "    image = np.resize(image,(size, size, 3))\n",
        "    train_images.append(image)\n",
        "  s = (i_f,1)\n",
        "  i_f = 0\n",
        "  label = []\n",
        "  label = np.ones(s)*i_i\n",
        "  for n in label:\n",
        "    train_labels.append([label])\n",
        "  i_i = 0\n",
        "\n",
        "print(np.array(train_images).shape)\n",
        "print(np.array(train_labels).shape)"
      ],
      "execution_count": null,
      "outputs": []
    },
    {
      "cell_type": "markdown",
      "metadata": {
        "id": "-Cx2KPbOMaLm"
      },
      "source": [
        "Pre-procese el set de datos"
      ]
    },
    {
      "cell_type": "code",
      "metadata": {
        "id": "Rk4RXolpKe_b"
      },
      "source": [
        "# TensorFlow y tf.keras\n",
        "import tensorflow as tf\n",
        "from tensorflow import keras\n",
        "\n",
        "# Librerias de ayuda\n",
        "import numpy as np\n",
        "import matplotlib.pyplot as plt\n",
        "\n",
        "plt.figure()\n",
        "plt.imshow(train_images[0])\n",
        "plt.colorbar()\n",
        "plt.grid(False)\n",
        "plt.show()\n"
      ],
      "execution_count": null,
      "outputs": []
    },
    {
      "cell_type": "code",
      "metadata": {
        "id": "Pt6cjbnNMvP1"
      },
      "source": [
        "train_images= np.divide(train_images, 255.0)\n",
        "test_images= np.divide(test_images, 255.0)"
      ],
      "execution_count": 40,
      "outputs": []
    },
    {
      "cell_type": "code",
      "metadata": {
        "id": "rMEUwsDlMv_e"
      },
      "source": [
        "plt.figure(figsize=(10,10))\n",
        "for i in range(25):\n",
        "    plt.subplot(5,5,i+1)\n",
        "    plt.xticks([])\n",
        "    plt.yticks([])\n",
        "    plt.grid(False)\n",
        "    plt.imshow(train_images[i], cmap=plt.cm.binary)\n",
        "    plt.xlabel(class_names[train_labels[i]])\n",
        "plt.show()"
      ],
      "execution_count": null,
      "outputs": []
    },
    {
      "cell_type": "markdown",
      "metadata": {
        "id": "YuvqWtWTd-iz"
      },
      "source": [
        "Configurar las capas"
      ]
    },
    {
      "cell_type": "code",
      "metadata": {
        "id": "hGCc07f4d1e2"
      },
      "source": [
        "model = keras.Sequential([\n",
        "    keras.layers.Flatten(input_shape=(28, 28)),\n",
        "    keras.layers.Dense(128, activation='relu'),\n",
        "    keras.layers.Dense(10, activation='softmax')"
      ],
      "execution_count": null,
      "outputs": []
    },
    {
      "cell_type": "code",
      "metadata": {
        "id": "q-xjspmkeG5-"
      },
      "source": [
        "model.compile(optimizer='adam',\n",
        "              loss='sparse_categorical_crossentropy',\n",
        "              metrics=['accuracy'])"
      ],
      "execution_count": null,
      "outputs": []
    },
    {
      "cell_type": "markdown",
      "metadata": {
        "id": "sWSEuV2eeOzD"
      },
      "source": [
        "Entrenar modelo"
      ]
    },
    {
      "cell_type": "code",
      "metadata": {
        "id": "Kva3Cb4WeQl_"
      },
      "source": [
        "model.fit(train_images, train_labels, epochs=10)"
      ],
      "execution_count": null,
      "outputs": []
    },
    {
      "cell_type": "markdown",
      "metadata": {
        "id": "hZmjOf5PeyhV"
      },
      "source": [
        "Evaluar exactitud"
      ]
    },
    {
      "cell_type": "code",
      "metadata": {
        "id": "ug7y8jMee094"
      },
      "source": [
        "test_loss, test_acc = model.evaluate(test_images,  test_labels, verbose=2)\n",
        "\n",
        "print('\\nTest accuracy:', test_acc)"
      ],
      "execution_count": null,
      "outputs": []
    },
    {
      "cell_type": "markdown",
      "metadata": {
        "id": "Re-OXZBVfHhg"
      },
      "source": [
        "Hacer predicciones"
      ]
    },
    {
      "cell_type": "code",
      "metadata": {
        "id": "EgvicjCHfLSy"
      },
      "source": [
        "predictions = model.predict(test_images)\n",
        "predictions[0]\n",
        "np.argmax(predictions[0])\n",
        "test_labels[0]"
      ],
      "execution_count": null,
      "outputs": []
    },
    {
      "cell_type": "markdown",
      "metadata": {
        "id": "6zegQeAufss_"
      },
      "source": [
        "Graficar"
      ]
    },
    {
      "cell_type": "code",
      "metadata": {
        "id": "J5DKl2AgfuZE"
      },
      "source": [
        "def plot_image(i, predictions_array, true_label, img):\n",
        "  predictions_array, true_label, img = predictions_array, true_label[i], img[i]\n",
        "  plt.grid(False)\n",
        "  plt.xticks([])\n",
        "  plt.yticks([])\n",
        "\n",
        "  plt.imshow(img, cmap=plt.cm.binary)\n",
        "\n",
        "  predicted_label = np.argmax(predictions_array)\n",
        "  if predicted_label == true_label:\n",
        "    color = 'blue'\n",
        "  else:\n",
        "    color = 'red'\n",
        "\n",
        "  plt.xlabel(\"{} {:2.0f}% ({})\".format(class_names[predicted_label],\n",
        "                                100*np.max(predictions_array),\n",
        "                                class_names[true_label]),\n",
        "                                color=color)\n",
        "\n",
        "def plot_value_array(i, predictions_array, true_label):\n",
        "  predictions_array, true_label = predictions_array, true_label[i]\n",
        "  plt.grid(False)\n",
        "  plt.xticks(range(10))\n",
        "  plt.yticks([])\n",
        "  thisplot = plt.bar(range(10), predictions_array, color=\"#777777\")\n",
        "  plt.ylim([0, 1])\n",
        "  predicted_label = np.argmax(predictions_array)\n",
        "\n",
        "  thisplot[predicted_label].set_color('red')\n",
        "  thisplot[true_label].set_color('blue')\n",
        "\n",
        "\n",
        "# Plot the first X test images, their predicted labels, and the true labels.\n",
        "# Color correct predictions in blue and incorrect predictions in red.\n",
        "num_rows = 5\n",
        "num_cols = 3\n",
        "num_images = num_rows*num_cols\n",
        "plt.figure(figsize=(2*2*num_cols, 2*num_rows))\n",
        "for i in range(num_images):\n",
        "  plt.subplot(num_rows, 2*num_cols, 2*i+1)\n",
        "  plot_image(i, predictions[i], test_labels, test_images)\n",
        "  plt.subplot(num_rows, 2*num_cols, 2*i+2)\n",
        "  plot_value_array(i, predictions[i], test_labels)\n",
        "plt.tight_layout()\n",
        "plt.show()\n",
        "\n",
        "# Grab an image from the test dataset.\n",
        "img = test_images[1]\n",
        "\n",
        "print(img.shape)\n",
        "\n",
        "# Add the image to a batch where it's the only member.\n",
        "img = (np.expand_dims(img,0))\n",
        "\n",
        "print(img.shape)\n",
        "\n",
        "predictions_single = model.predict(img)\n",
        "\n",
        "print(predictions_single)\n",
        "\n",
        "plot_value_array(1, predictions_single[0], test_labels)\n",
        "_ = plt.xticks(range(10), class_names, rotation=45)\n",
        "\n",
        "np.argmax(predictions_single[0])"
      ],
      "execution_count": null,
      "outputs": []
    }
  ]
}